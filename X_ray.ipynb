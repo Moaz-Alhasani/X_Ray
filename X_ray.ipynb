{
 "cells": [
  {
   "cell_type": "code",
   "execution_count": null,
   "metadata": {},
   "outputs": [],
   "source": [
    "!kaggle datasets download -d paultimothymooney/chest-xray-pneumonia"
   ]
  },
  {
   "cell_type": "code",
   "execution_count": null,
   "metadata": {},
   "outputs": [],
   "source": [
    "import zipfile\n",
    "\n",
    "with zipfile.ZipFile(\"./chest-xray-pneumonia.zip\", 'r') as z:\n",
    "    \n",
    "    z.extractall()"
   ]
  },
  {
   "cell_type": "code",
   "execution_count": null,
   "metadata": {},
   "outputs": [],
   "source": [
    "from ast import increment_lineno\n",
    "import os\n",
    "import shutil\n",
    "import random\n",
    "import numpy as np\n",
    "import pandas as pd\n",
    "import cv2\n",
    "import skimage\n",
    "import matplotlib.pyplot as plt\n",
    "import seaborn as sns\n",
    "\n",
    "%matplotlib inline\n"
   ]
  },
  {
   "cell_type": "code",
   "execution_count": null,
   "metadata": {},
   "outputs": [],
   "source": [
    "lables=[\"PNEUMONIA\",\"NORMAL\"]\n",
    "image_size=128"
   ]
  },
  {
   "cell_type": "code",
   "execution_count": null,
   "metadata": {},
   "outputs": [],
   "source": [
    "def get_data(data_dir):\n",
    "  data=[]\n",
    "  for label in lables:\n",
    "    path=os.path.join(data_dir,label)\n",
    "    class_num=lables.index(label)\n",
    "    for img in os.listdir(path):\n",
    "      try:\n",
    "        img_arr=cv2.imread(os.path.join(path,img),cv2.IMREAD_GRAYSCALE)\n",
    "        resized_arr=cv2.resize(img_arr,(image_size,image_size))\n",
    "        data.append(resized_arr)\n",
    "      except Exception as e:\n",
    "        print(e)\n",
    "  return np.array(data)\n"
   ]
  },
  {
   "cell_type": "code",
   "execution_count": null,
   "metadata": {},
   "outputs": [],
   "source": [
    "train=get_data('./chest_xray/chest_xray/train')\n",
    "test=get_data('./chest_xray/chest_xray/test')\n",
    "val=get_data('./chest_xray/chest_xray/val')"
   ]
  },
  {
   "cell_type": "code",
   "execution_count": null,
   "metadata": {},
   "outputs": [],
   "source": [
    "pneumonia_dir='./chest_xray/train/PNEUMONIA'\n",
    "pneumonia=os.listdir(\"./chest_xray/train/PNEUMONIA\")"
   ]
  },
  {
   "cell_type": "markdown",
   "metadata": {},
   "source": [
    "#Data Agumnetation\n",
    "\n"
   ]
  },
  {
   "cell_type": "code",
   "execution_count": null,
   "metadata": {},
   "outputs": [],
   "source": [
    "import tensorflow as tf\n",
    "from tensorflow.keras.preprocessing.image import ImageDataGenerator\n",
    "from tensorflow.keras.models import Model,load_model\n",
    "from tensorflow.keras.layers import Dense,Flatten,Input,MaxPooling2D,Conv2D,Dropout\n",
    "from tensorflow.keras.applications.vgg19 import VGG19\n",
    "from tensorflow.keras.optimizers import SGD,RMSprop,Adam\n",
    "from tensorflow.keras.callbacks import ModelCheckpoint,EarlyStopping,ReduceLROnPlateau"
   ]
  },
  {
   "cell_type": "code",
   "execution_count": null,
   "metadata": {},
   "outputs": [],
   "source": [
    "train_datagen=ImageDataGenerator(\n",
    "    rescale=1./255,\n",
    "    horizontal_flip=0.4,\n",
    "    vertical_flip=0.4,\n",
    "    rotation_range=40,\n",
    "    shear_range=0.2,\n",
    "    width_shift_range=0.4,\n",
    "    height_shift_range=0.4,\n",
    "    fill_mode=\"nearest\"\n",
    ")\n",
    "vaild_datagen=ImageDataGenerator(rescale=1./255)\n",
    "test_datagen=ImageDataGenerator(rescale=1./255)\n"
   ]
  },
  {
   "cell_type": "code",
   "execution_count": null,
   "metadata": {},
   "outputs": [],
   "source": [
    "train_generator=train_datagen.flow_from_directory(\n",
    "    './chest_xray/chest_xray/train',\n",
    "    batch_size=32,\n",
    "    target_size=(128,128),\n",
    "    class_mode='categorical',\n",
    "    shuffle=True,\n",
    "    seed=42,\n",
    "    color_mode='rgb'\n",
    ")\n",
    "\n",
    "\n",
    "valid_generator=vaild_datagen.flow_from_directory(\n",
    "    './chest_xray/chest_xray/val',\n",
    "    batch_size=32,\n",
    "    target_size=(128,128),\n",
    "    class_mode='categorical',\n",
    "    shuffle=True,\n",
    "    seed=42,\n",
    "    color_mode='rgb'\n",
    ")\n",
    "\n",
    "\n",
    "test_generator=test_datagen.flow_from_directory(\n",
    "    './chest_xray/chest_xray/test',\n",
    "    batch_size=32,\n",
    "    target_size=(128,128),\n",
    "    class_mode='categorical',\n",
    "    shuffle=True,\n",
    "    seed=42,\n",
    "    color_mode='rgb'\n",
    ")"
   ]
  },
  {
   "cell_type": "code",
   "execution_count": null,
   "metadata": {},
   "outputs": [],
   "source": [
    "class_lables=train_generator.class_indices\n",
    "class_name={value:key for key,value in class_lables.items()}"
   ]
  },
  {
   "cell_type": "code",
   "execution_count": null,
   "metadata": {},
   "outputs": [],
   "source": [
    "base_model=VGG19(input_shape=(128,128,3),include_top=False,weights=\"imagenet\")\n",
    "for layer in base_model.layers:\n",
    "    layer.trainable=False\n",
    "x=base_model.output\n",
    "flat=Flatten()(x)\n",
    "class_1=Dense(4608,activation='relu')(flat)\n",
    "dropout=Dropout(0.2)(class_1)\n",
    "class_2=Dense(1152,activation=\"relu\")(dropout)\n",
    "output=Dense(2,activation=\"softmax\")(class_2)\n",
    "model_01=Model(base_model.input,output)\n",
    "\n",
    "model_01.summary()"
   ]
  },
  {
   "cell_type": "code",
   "execution_count": null,
   "metadata": {},
   "outputs": [],
   "source": [
    "model_01.evaluate(test_generator)"
   ]
  },
  {
   "cell_type": "code",
   "execution_count": null,
   "metadata": {},
   "outputs": [],
   "source": [
    "\n",
    "filepath = \"model.h5\" \n",
    "\n",
    "#\n",
    "# es = EarlyStopping(monitor=\"val_loss\", verbose=1, mode=\"min\", patience=4)\n",
    "# cp = ModelCheckpoint(filepath, monitor=\"val_loss\", save_best_only=True, save_weights_only=False, verbose=1)\n",
    "# lrr = ReduceLROnPlateau(monitor=\"val_accuracy\", patience=3, verbose=1, factor=0.5, min_lr=0.00001)\n",
    "\n",
    "\n",
    "model_01.compile(optimizer='Adam', loss=\"categorical_crossentropy\", metrics=[\"accuracy\"])\n",
    "\n",
    "history = model_01.fit(train_generator,\n",
    "                        steps_per_epoch=50,\n",
    "                        epochs=2,\n",
    "                        validation_data=valid_generator)"
   ]
  },
  {
   "cell_type": "code",
   "execution_count": null,
   "metadata": {},
   "outputs": [],
   "source": [
    "import numpy as np\n",
    "from keras.models import load_model\n",
    "from keras.preprocessing import image\n",
    "\n",
    "\n",
    "def prepare_image(img_path, target_size):\n",
    "    img = image.load_img(img_path, target_size=target_size)\n",
    "    img_array = image.img_to_array(img)  \n",
    "    img_array = np.expand_dims(img_array, axis=0)\n",
    "    img_array /= 255.0 \n",
    "    return img_array\n",
    "\n",
    "\n",
    "img_path = '/content/chest_xray/test/PNEUMONIA/person100_bacteria_477.jpeg'  \n",
    "target_size = (128, 128) \n",
    "\n",
    "input_image = prepare_image(img_path, target_size)\n",
    "\n",
    "\n",
    "predictions = model_01.predict(input_image)\n",
    "\n",
    "predicted_class = np.argmax(predictions, axis=1) \n",
    "if predicted_class==1:\n",
    "  print(\"PENUMIOINA\")\n",
    "elif predicted_class==0:\n",
    "  print(\"Nromal\")\n",
    "print(\"Predicted class index:\", predicted_class)\n"
   ]
  }
 ],
 "metadata": {
  "kernelspec": {
   "display_name": "Python 3",
   "language": "python",
   "name": "python3"
  },
  "language_info": {
   "name": "python",
   "version": "3.11.8"
  }
 },
 "nbformat": 4,
 "nbformat_minor": 2
}
